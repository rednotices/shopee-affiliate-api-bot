{
 "cells": [
  {
   "cell_type": "code",
   "execution_count": 1,
   "metadata": {},
   "outputs": [],
   "source": [
    "from distutils.log import info\n",
    "from itertools import count\n",
    "import tweepy as twitter\n",
    "import time\n",
    "from datetime import datetime\n",
    "import pandas as pd\n",
    "import random\n",
    "import urllib.request\n",
    "from PIL import Image\n",
    "import requests\n",
    "import schedule\n",
    "from py3pin.Pinterest import Pinterest\n",
    "import mysql.connector"
   ]
  },
  {
   "cell_type": "code",
   "execution_count": 20,
   "metadata": {},
   "outputs": [
    {
     "name": "stdout",
     "output_type": "stream",
     "text": [
      "Status(_api=<tweepy.api.API object at 0x0000013F012D8850>, _json={'created_at': 'Sun Feb 26 03:18:21 +0000 2023', 'id': 1629682253621264384, 'id_str': '1629682253621264384', 'text': '@tanyakanrl Test Reply', 'truncated': False, 'entities': {'hashtags': [], 'symbols': [], 'user_mentions': [{'screen_name': 'tanyakanrl', 'name': 'Tanyarl ㅡ REP AFF/JUALAN = BLOCK', 'id': 1331650559518990336, 'id_str': '1331650559518990336', 'indices': [0, 11]}], 'urls': []}, 'source': '<a href=\"https://twitter.com/RetweetBotAz\" rel=\"nofollow\">RetweetBotAz</a>', 'in_reply_to_status_id': 1629681436218490881, 'in_reply_to_status_id_str': '1629681436218490881', 'in_reply_to_user_id': 1331650559518990336, 'in_reply_to_user_id_str': '1331650559518990336', 'in_reply_to_screen_name': 'tanyakanrl', 'user': {'id': 975213506696855553, 'id_str': '975213506696855553', 'name': 'Muhammad Fresma', 'screen_name': 'fresma_a', 'location': '', 'description': '', 'url': None, 'entities': {'description': {'urls': []}}, 'protected': False, 'followers_count': 2288, 'friends_count': 26, 'listed_count': 0, 'created_at': 'Sun Mar 18 03:33:13 +0000 2018', 'favourites_count': 281, 'utc_offset': None, 'time_zone': None, 'geo_enabled': False, 'verified': False, 'statuses_count': 1, 'lang': None, 'contributors_enabled': False, 'is_translator': False, 'is_translation_enabled': False, 'profile_background_color': 'F5F8FA', 'profile_background_image_url': None, 'profile_background_image_url_https': None, 'profile_background_tile': False, 'profile_image_url': 'http://pbs.twimg.com/profile_images/1458953474385743878/z0mrZ3E4_normal.jpg', 'profile_image_url_https': 'https://pbs.twimg.com/profile_images/1458953474385743878/z0mrZ3E4_normal.jpg', 'profile_banner_url': 'https://pbs.twimg.com/profile_banners/975213506696855553/1590863331', 'profile_link_color': '1DA1F2', 'profile_sidebar_border_color': 'C0DEED', 'profile_sidebar_fill_color': 'DDEEF6', 'profile_text_color': '333333', 'profile_use_background_image': True, 'has_extended_profile': False, 'default_profile': True, 'default_profile_image': False, 'following': False, 'follow_request_sent': False, 'notifications': False, 'translator_type': 'none', 'withheld_in_countries': []}, 'geo': None, 'coordinates': None, 'place': None, 'contributors': None, 'is_quote_status': False, 'retweet_count': 0, 'favorite_count': 0, 'favorited': False, 'retweeted': False, 'lang': 'en'}, created_at=datetime.datetime(2023, 2, 26, 3, 18, 21, tzinfo=datetime.timezone.utc), id=1629682253621264384, id_str='1629682253621264384', text='@tanyakanrl Test Reply', truncated=False, entities={'hashtags': [], 'symbols': [], 'user_mentions': [{'screen_name': 'tanyakanrl', 'name': 'Tanyarl ㅡ REP AFF/JUALAN = BLOCK', 'id': 1331650559518990336, 'id_str': '1331650559518990336', 'indices': [0, 11]}], 'urls': []}, source='RetweetBotAz', source_url='https://twitter.com/RetweetBotAz', in_reply_to_status_id=1629681436218490881, in_reply_to_status_id_str='1629681436218490881', in_reply_to_user_id=1331650559518990336, in_reply_to_user_id_str='1331650559518990336', in_reply_to_screen_name='tanyakanrl', author=User(_api=<tweepy.api.API object at 0x0000013F012D8850>, _json={'id': 975213506696855553, 'id_str': '975213506696855553', 'name': 'Muhammad Fresma', 'screen_name': 'fresma_a', 'location': '', 'description': '', 'url': None, 'entities': {'description': {'urls': []}}, 'protected': False, 'followers_count': 2288, 'friends_count': 26, 'listed_count': 0, 'created_at': 'Sun Mar 18 03:33:13 +0000 2018', 'favourites_count': 281, 'utc_offset': None, 'time_zone': None, 'geo_enabled': False, 'verified': False, 'statuses_count': 1, 'lang': None, 'contributors_enabled': False, 'is_translator': False, 'is_translation_enabled': False, 'profile_background_color': 'F5F8FA', 'profile_background_image_url': None, 'profile_background_image_url_https': None, 'profile_background_tile': False, 'profile_image_url': 'http://pbs.twimg.com/profile_images/1458953474385743878/z0mrZ3E4_normal.jpg', 'profile_image_url_https': 'https://pbs.twimg.com/profile_images/1458953474385743878/z0mrZ3E4_normal.jpg', 'profile_banner_url': 'https://pbs.twimg.com/profile_banners/975213506696855553/1590863331', 'profile_link_color': '1DA1F2', 'profile_sidebar_border_color': 'C0DEED', 'profile_sidebar_fill_color': 'DDEEF6', 'profile_text_color': '333333', 'profile_use_background_image': True, 'has_extended_profile': False, 'default_profile': True, 'default_profile_image': False, 'following': False, 'follow_request_sent': False, 'notifications': False, 'translator_type': 'none', 'withheld_in_countries': []}, id=975213506696855553, id_str='975213506696855553', name='Muhammad Fresma', screen_name='fresma_a', location='', description='', url=None, entities={'description': {'urls': []}}, protected=False, followers_count=2288, friends_count=26, listed_count=0, created_at=datetime.datetime(2018, 3, 18, 3, 33, 13, tzinfo=datetime.timezone.utc), favourites_count=281, utc_offset=None, time_zone=None, geo_enabled=False, verified=False, statuses_count=1, lang=None, contributors_enabled=False, is_translator=False, is_translation_enabled=False, profile_background_color='F5F8FA', profile_background_image_url=None, profile_background_image_url_https=None, profile_background_tile=False, profile_image_url='http://pbs.twimg.com/profile_images/1458953474385743878/z0mrZ3E4_normal.jpg', profile_image_url_https='https://pbs.twimg.com/profile_images/1458953474385743878/z0mrZ3E4_normal.jpg', profile_banner_url='https://pbs.twimg.com/profile_banners/975213506696855553/1590863331', profile_link_color='1DA1F2', profile_sidebar_border_color='C0DEED', profile_sidebar_fill_color='DDEEF6', profile_text_color='333333', profile_use_background_image=True, has_extended_profile=False, default_profile=True, default_profile_image=False, following=False, follow_request_sent=False, notifications=False, translator_type='none', withheld_in_countries=[]), user=User(_api=<tweepy.api.API object at 0x0000013F012D8850>, _json={'id': 975213506696855553, 'id_str': '975213506696855553', 'name': 'Muhammad Fresma', 'screen_name': 'fresma_a', 'location': '', 'description': '', 'url': None, 'entities': {'description': {'urls': []}}, 'protected': False, 'followers_count': 2288, 'friends_count': 26, 'listed_count': 0, 'created_at': 'Sun Mar 18 03:33:13 +0000 2018', 'favourites_count': 281, 'utc_offset': None, 'time_zone': None, 'geo_enabled': False, 'verified': False, 'statuses_count': 1, 'lang': None, 'contributors_enabled': False, 'is_translator': False, 'is_translation_enabled': False, 'profile_background_color': 'F5F8FA', 'profile_background_image_url': None, 'profile_background_image_url_https': None, 'profile_background_tile': False, 'profile_image_url': 'http://pbs.twimg.com/profile_images/1458953474385743878/z0mrZ3E4_normal.jpg', 'profile_image_url_https': 'https://pbs.twimg.com/profile_images/1458953474385743878/z0mrZ3E4_normal.jpg', 'profile_banner_url': 'https://pbs.twimg.com/profile_banners/975213506696855553/1590863331', 'profile_link_color': '1DA1F2', 'profile_sidebar_border_color': 'C0DEED', 'profile_sidebar_fill_color': 'DDEEF6', 'profile_text_color': '333333', 'profile_use_background_image': True, 'has_extended_profile': False, 'default_profile': True, 'default_profile_image': False, 'following': False, 'follow_request_sent': False, 'notifications': False, 'translator_type': 'none', 'withheld_in_countries': []}, id=975213506696855553, id_str='975213506696855553', name='Muhammad Fresma', screen_name='fresma_a', location='', description='', url=None, entities={'description': {'urls': []}}, protected=False, followers_count=2288, friends_count=26, listed_count=0, created_at=datetime.datetime(2018, 3, 18, 3, 33, 13, tzinfo=datetime.timezone.utc), favourites_count=281, utc_offset=None, time_zone=None, geo_enabled=False, verified=False, statuses_count=1, lang=None, contributors_enabled=False, is_translator=False, is_translation_enabled=False, profile_background_color='F5F8FA', profile_background_image_url=None, profile_background_image_url_https=None, profile_background_tile=False, profile_image_url='http://pbs.twimg.com/profile_images/1458953474385743878/z0mrZ3E4_normal.jpg', profile_image_url_https='https://pbs.twimg.com/profile_images/1458953474385743878/z0mrZ3E4_normal.jpg', profile_banner_url='https://pbs.twimg.com/profile_banners/975213506696855553/1590863331', profile_link_color='1DA1F2', profile_sidebar_border_color='C0DEED', profile_sidebar_fill_color='DDEEF6', profile_text_color='333333', profile_use_background_image=True, has_extended_profile=False, default_profile=True, default_profile_image=False, following=False, follow_request_sent=False, notifications=False, translator_type='none', withheld_in_countries=[]), geo=None, coordinates=None, place=None, contributors=None, is_quote_status=False, retweet_count=0, favorite_count=0, favorited=False, retweeted=False, lang='en')\n"
     ]
    }
   ],
   "source": [
    "def testing():\n",
    "    API_KEY = \"l8QEIHkBbb7Zpviv7ggt4XNpi\"\n",
    "    API_SECRET_KEY = \"eM4Id0y0DiTLT3TJNZ9MDxZOUlx1rt5njK012vdt7RTligP77N\"\n",
    "    BEARER_TOKEN = \"AAAAAAAAAAAAAAAAAAAAAAFrcgEAAAAADBt2zOc80n%2B6VnrIFjKzMwfhP%2B4%3DexqN2RgSuElNEqmOgdH6vecjFDoX1XTYHOGvGqfHrvjE5vke37\"\n",
    "    ACCESS_TOKEN = \"975213506696855553-UcOW4U41SPc5XgwylP1FnHeYLKbTR9N\"\n",
    "    SECRET_ACCESS_TOKEN = \"kQM4qyISdaPrRBFOjb0zfRpUKMdmG7UBXpgrDNDrxQs5E\"\n",
    "\n",
    "    auth = twitter.OAuthHandler(API_KEY,  API_SECRET_KEY)\n",
    "    auth.set_access_token(ACCESS_TOKEN, SECRET_ACCESS_TOKEN)\n",
    "    API = twitter.API(auth)\n",
    "    \n",
    "    userID = \"tanyakanrl\"\n",
    "    \n",
    "    comment = 'Test Reply'\n",
    "   \n",
    "    tweets = API.user_timeline(screen_name=userID, count=1)\n",
    "    \n",
    "    testing = API.update_status(status = comment, in_reply_to_status_id=tweets[0].id, auto_populate_reply_metadata=True)\n",
    "    print(testing)\n",
    "    \n",
    "testing()"
   ]
  }
 ],
 "metadata": {
  "kernelspec": {
   "display_name": "me",
   "language": "python",
   "name": "python3"
  },
  "language_info": {
   "codemirror_mode": {
    "name": "ipython",
    "version": 3
   },
   "file_extension": ".py",
   "mimetype": "text/x-python",
   "name": "python",
   "nbconvert_exporter": "python",
   "pygments_lexer": "ipython3",
   "version": "3.9.16"
  },
  "orig_nbformat": 4,
  "vscode": {
   "interpreter": {
    "hash": "468ae84480a0cf111ba2e1f9e142a5adb1c1e6e4327e8ed889fe7f588de4372f"
   }
  }
 },
 "nbformat": 4,
 "nbformat_minor": 2
}
