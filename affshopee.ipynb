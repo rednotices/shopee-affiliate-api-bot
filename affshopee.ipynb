{
 "cells": [
  {
   "cell_type": "code",
   "execution_count": 3,
   "metadata": {},
   "outputs": [
    {
     "name": "stdout",
     "output_type": "stream",
     "text": [
      "Komisi Tanngal: 2023-03-25 sampai 2023-03-25\n",
      "Jumlah Pesanan: 0\n",
      "Estimasi Pendapatan: 0\n"
     ]
    }
   ],
   "source": [
    "from datetime import datetime, timedelta\n",
    "from shopee_affiliate import ShopeeAffiliate\n",
    "\n",
    "# fresma\n",
    "appid = \"11329420170\" # Your appid\n",
    "secret = \"7IR5CEE2UZXUIEB7SLFR5E6CDYVSV5XT\" # Your secret\n",
    "\n",
    "# Ayah\n",
    "# appid = \"11368430183\" # Your appid\n",
    "# secret = \"QFIZOMN6JRAY5JJIHXRMPVZLTKN7B5QU\" # Your secret\n",
    "\n",
    "# Ilham\n",
    "# appid = \"11332250177\" # Your appidr\n",
    "# secret = \"A2XJFF3A4SZ5DOBQG4RHEKF2SFAHXKAT\" # Your secret\n",
    "\n",
    "# report yesterday\n",
    "startdate = datetime.now() - timedelta(days=1)\n",
    "enddate = datetime.now() - timedelta(days=1)\n",
    "\n",
    "sa = ShopeeAffiliate(appid, secret)\n",
    "res = sa.report(startdate, enddate)\n",
    "conversion, estimation, startdate_, enddate_ = res\n",
    "print(\"Komisi Tanngal: {} sampai {}\".format(startdate_, enddate_))\n",
    "print(\"Jumlah Pesanan:\", conversion)\n",
    "print(\"Estimasi Pendapatan:\", estimation)"
   ]
  },
  {
   "cell_type": "code",
   "execution_count": 7,
   "metadata": {},
   "outputs": [
    {
     "name": "stdout",
     "output_type": "stream",
     "text": [
      "sarhagthang\n",
      "Donni_darwin\n",
      "cantika_vela\n",
      "alviliaa_\n",
      "aqillaaurelliaa\n",
      "HappyRacun\n",
      "aneisha_4\n"
     ]
    }
   ],
   "source": [
    "import mysql.connector\n",
    "\n",
    "mydb = mysql.connector.connect(\n",
    "  host=\"biofresma.my.id\",\n",
    "  user=\"biofresm_shopee_aff\",\n",
    "  password=\"Azzukhruf26\",\n",
    "  database=\"biofresm_shopee_aff\"\n",
    ")\n",
    "\n",
    "mycursor = mydb.cursor(dictionary=True)\n",
    "\n",
    "mycursor.execute(\"SELECT id_shopee, id, username, access_token, access_token_secret FROM account_backup WHERE id_shopee=1 AND username='sarhagthang' OR username='Donni_darwin' OR username='alviliaa_' OR username='aqillaaurelliaa' OR username='cantika_vela' OR username='HappyRacun' OR username='aneisha_4'\")\n",
    "accountResult = mycursor.fetchall()\n",
    "\n",
    "for account in accountResult:\n",
    "  print(account['username'])"
   ]
  },
  {
   "cell_type": "code",
   "execution_count": 24,
   "metadata": {},
   "outputs": [
    {
     "name": "stdout",
     "output_type": "stream",
     "text": [
      "SaraAlamilla11\n",
      "putridewia_a\n",
      "nirmalsalsabila\n",
      "ArianaAbascal1\n",
      "vaniakeisya_\n",
      "samaira_nafisa\n",
      "vidyaisvara\n",
      "_firzaamanda\n",
      "yusiedaynti\n"
     ]
    }
   ],
   "source": [
    "import mysql.connector\n",
    "\n",
    "mydb = mysql.connector.connect(\n",
    "  host=\"biofresma.my.id\",\n",
    "  user=\"biofresm_shopee_aff\",\n",
    "  password=\"Azzukhruf26\",\n",
    "  database=\"biofresm_shopee_aff\"\n",
    ")\n",
    "\n",
    "mycursor = mydb.cursor(dictionary=True)\n",
    "\n",
    "mycursor.execute(\"SELECT username, API_KEY, API_SECRET_KEY, BEARER_TOKEN, ACCESS_TOKEN, SECRET_ACCESS_TOKEN FROM account_non_eleved WHERE is_retweet = 1\")\n",
    "accountResult = mycursor.fetchall()\n",
    "\n",
    "for account in accountResult:\n",
    "  print(account['username'])"
   ]
  }
 ],
 "metadata": {
  "kernelspec": {
   "display_name": "Python 3.9.12 ('me')",
   "language": "python",
   "name": "python3"
  },
  "language_info": {
   "codemirror_mode": {
    "name": "ipython",
    "version": 3
   },
   "file_extension": ".py",
   "mimetype": "text/x-python",
   "name": "python",
   "nbconvert_exporter": "python",
   "pygments_lexer": "ipython3",
   "version": "3.9.16"
  },
  "orig_nbformat": 4,
  "vscode": {
   "interpreter": {
    "hash": "468ae84480a0cf111ba2e1f9e142a5adb1c1e6e4327e8ed889fe7f588de4372f"
   }
  }
 },
 "nbformat": 4,
 "nbformat_minor": 2
}
