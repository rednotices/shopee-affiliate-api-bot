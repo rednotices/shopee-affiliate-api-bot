{
 "cells": [
  {
   "cell_type": "code",
   "execution_count": 4,
   "metadata": {},
   "outputs": [
    {
     "name": "stdout",
     "output_type": "stream",
     "text": [
      "Komisi Tanngal: 2023-03-09 sampai 2023-03-10\n",
      "Jumlah Pesanan: 0\n",
      "Estimasi Pendapatan: 0\n"
     ]
    }
   ],
   "source": [
    "from datetime import datetime, timedelta\n",
    "from shopee_affiliate import ShopeeAffiliate\n",
    "\n",
    "# fresma\n",
    "appid = \"11329420170\" # Your appid\n",
    "secret = \"7IR5CEE2UZXUIEB7SLFR5E6CDYVSV5XT\" # Your secret\n",
    "\n",
    "# Ayah\n",
    "appid = \"11368430183\" # Your appid\n",
    "secret = \"QFIZOMN6JRAY5JJIHXRMPVZLTKN7B5QU\" # Your secret\n",
    "\n",
    "# Ilham\n",
    "appid = \"11332250177\" # Your appidr\n",
    "secret = \"A2XJFF3A4SZ5DOBQG4RHEKF2SFAHXKAT\" # Your secret\n",
    "\n",
    "# report yesterday\n",
    "startdate = datetime.now() - timedelta(days=2)\n",
    "enddate = datetime.now() - timedelta(days=1)\n",
    "\n",
    "sa = ShopeeAffiliate(appid, secret)\n",
    "res = sa.report(startdate, enddate)\n",
    "conversion, estimation, startdate_, enddate_ = res\n",
    "print(\"Komisi Tanngal: {} sampai {}\".format(startdate_, enddate_))\n",
    "print(\"Jumlah Pesanan:\", conversion)\n",
    "print(\"Estimasi Pendapatan:\", estimation)"
   ]
  },
  {
   "cell_type": "code",
   "execution_count": 2,
   "metadata": {},
   "outputs": [
    {
     "name": "stdout",
     "output_type": "stream",
     "text": [
      "Testing Brow\n"
     ]
    }
   ],
   "source": [
    "print(os.environ['HOME'])"
   ]
  }
 ],
 "metadata": {
  "kernelspec": {
   "display_name": "Python 3.9.12 ('me')",
   "language": "python",
   "name": "python3"
  },
  "language_info": {
   "codemirror_mode": {
    "name": "ipython",
    "version": 3
   },
   "file_extension": ".py",
   "mimetype": "text/x-python",
   "name": "python",
   "nbconvert_exporter": "python",
   "pygments_lexer": "ipython3",
   "version": "3.9.16"
  },
  "orig_nbformat": 4,
  "vscode": {
   "interpreter": {
    "hash": "468ae84480a0cf111ba2e1f9e142a5adb1c1e6e4327e8ed889fe7f588de4372f"
   }
  }
 },
 "nbformat": 4,
 "nbformat_minor": 2
}
